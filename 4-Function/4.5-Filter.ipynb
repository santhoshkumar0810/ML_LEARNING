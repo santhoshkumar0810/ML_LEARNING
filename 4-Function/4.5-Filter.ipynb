{
 "cells": [
  {
   "cell_type": "markdown",
   "metadata": {},
   "source": [
    "### Filter Function\n",
    "\n",
    "filter function constructs an iterator from elements of an iterable for which a function with returns true. It is used to filter out items from a list(or any other iterable) based on a condition"
   ]
  },
  {
   "cell_type": "code",
   "execution_count": 8,
   "metadata": {},
   "outputs": [],
   "source": [
    "# Normal function\n",
    "\n",
    "def even_or_odd(num):\n",
    "    return num%2==0"
   ]
  },
  {
   "cell_type": "code",
   "execution_count": 9,
   "metadata": {},
   "outputs": [
    {
     "data": {
      "text/plain": [
       "True"
      ]
     },
     "execution_count": 9,
     "metadata": {},
     "output_type": "execute_result"
    }
   ],
   "source": [
    "even_or_odd(10)"
   ]
  },
  {
   "cell_type": "code",
   "execution_count": 10,
   "metadata": {},
   "outputs": [],
   "source": [
    "# we need to find out the even or odd number in a list and We need the output only even numbers\n",
    "\n",
    "lst = [1,2,3,4,5,6,7,8,9,10,11,12,13,14]\n"
   ]
  },
  {
   "cell_type": "code",
   "execution_count": 11,
   "metadata": {},
   "outputs": [],
   "source": [
    "## Normal method\n",
    "\n",
    "def even(arr):\n",
    "    lst1 = []\n",
    "    for i in arr:\n",
    "        if i%2==0:\n",
    "            lst1.append(i)\n",
    "    return lst1"
   ]
  },
  {
   "cell_type": "code",
   "execution_count": 12,
   "metadata": {},
   "outputs": [
    {
     "data": {
      "text/plain": [
       "[2, 4, 6, 8, 10, 12, 14]"
      ]
     },
     "execution_count": 12,
     "metadata": {},
     "output_type": "execute_result"
    }
   ],
   "source": [
    "even(lst)"
   ]
  },
  {
   "cell_type": "code",
   "execution_count": 13,
   "metadata": {},
   "outputs": [
    {
     "data": {
      "text/plain": [
       "[2, 4, 6, 8, 10, 12, 14]"
      ]
     },
     "execution_count": 13,
     "metadata": {},
     "output_type": "execute_result"
    }
   ],
   "source": [
    "# Using Filter Function\n",
    "# Syntax \n",
    "\n",
    "## filter(function,iterable)\n",
    "\n",
    "list(filter(even_or_odd,lst))"
   ]
  },
  {
   "cell_type": "code",
   "execution_count": 15,
   "metadata": {},
   "outputs": [
    {
     "data": {
      "text/plain": [
       "[6, 7, 8, 9]"
      ]
     },
     "execution_count": 15,
     "metadata": {},
     "output_type": "execute_result"
    }
   ],
   "source": [
    "## Filter with lambda function\n",
    "\n",
    "## fitering out greater than 5 and lesser than 10\n",
    "\n",
    "lst = [1,2,3,4,5,6,7,8,9,10,11,12,13,14]\n",
    "\n",
    "list(filter(lambda x:x>5 and x<10,lst))"
   ]
  },
  {
   "cell_type": "code",
   "execution_count": 16,
   "metadata": {},
   "outputs": [
    {
     "data": {
      "text/plain": [
       "[6, 8]"
      ]
     },
     "execution_count": 16,
     "metadata": {},
     "output_type": "execute_result"
    }
   ],
   "source": [
    "## Filter with a lambda function and multiple conditions\n",
    "\n",
    "## fitering out even number and greater than 5 and lesser than 10\n",
    "\n",
    "lst = [1,2,3,4,5,6,7,8,9,10,11,12,13,14]\n",
    "\n",
    "list(filter(lambda x: x>5 and x<10 and x%2==0,lst))"
   ]
  },
  {
   "cell_type": "code",
   "execution_count": 17,
   "metadata": {},
   "outputs": [],
   "source": [
    "## filter to check if the age is greater than 25 in a dictionary\n",
    "\n",
    "people = [\n",
    "    {'name': \"Sandy\",\"age\":21},\n",
    "    {'name': \"Gayathri\",\"age\":31},\n",
    "    {'name': \"chandra\",\"age\":40},\n",
    "    {'name': \"Satheesh\",\"age\":10}\n",
    "]\n",
    "\n",
    "def age_greater_than_18(person):\n",
    "    return person['age'] > 18\n"
   ]
  },
  {
   "cell_type": "code",
   "execution_count": 21,
   "metadata": {},
   "outputs": [
    {
     "data": {
      "text/plain": [
       "[{'name': 'Sandy', 'age': 21},\n",
       " {'name': 'Gayathri', 'age': 31},\n",
       " {'name': 'chandra', 'age': 40}]"
      ]
     },
     "execution_count": 21,
     "metadata": {},
     "output_type": "execute_result"
    }
   ],
   "source": [
    "list(filter(age_greater_than_18,people))"
   ]
  }
 ],
 "metadata": {
  "kernelspec": {
   "display_name": "venv",
   "language": "python",
   "name": "python3"
  },
  "language_info": {
   "codemirror_mode": {
    "name": "ipython",
    "version": 3
   },
   "file_extension": ".py",
   "mimetype": "text/x-python",
   "name": "python",
   "nbconvert_exporter": "python",
   "pygments_lexer": "ipython3",
   "version": "3.12.4"
  }
 },
 "nbformat": 4,
 "nbformat_minor": 2
}
