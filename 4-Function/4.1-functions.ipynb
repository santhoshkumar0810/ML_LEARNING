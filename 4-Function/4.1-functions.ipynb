{
 "cells": [
  {
   "cell_type": "markdown",
   "metadata": {},
   "source": [
    "### Functions\n",
    "\n",
    "A function is a block of code that perfoms a specific task. It help in organizing code, reusing code and improving readability"
   ]
  },
  {
   "cell_type": "code",
   "execution_count": null,
   "metadata": {},
   "outputs": [],
   "source": [
    "## Syntax\n",
    "def function_name(parameters):\n",
    "    \"\"\"Docstring -> Writing some command about this function \"\"\"\n",
    "    # Function body\n",
    "    return expression   # Return is optional"
   ]
  },
  {
   "cell_type": "code",
   "execution_count": 1,
   "metadata": {},
   "outputs": [
    {
     "name": "stdout",
     "output_type": "stream",
     "text": [
      "24 is even\n"
     ]
    }
   ],
   "source": [
    "## why function?\n",
    "## Whenever we need to reuse we use functions\n",
    "num = 24\n",
    "\n",
    "if num%2==0:\n",
    "    print(f\"{num} is even\")\n",
    "else:\n",
    "    print(f\"{num} is odd\")"
   ]
  },
  {
   "cell_type": "code",
   "execution_count": 2,
   "metadata": {},
   "outputs": [],
   "source": [
    "def even_or_odd(num):\n",
    "    \"\"\" This function finds even or odd \"\"\"\n",
    "    if num%2==0:\n",
    "        return(f\"{num} is even\")\n",
    "    else:\n",
    "        return (f\"{num} is odd\")\n"
   ]
  },
  {
   "cell_type": "code",
   "execution_count": 3,
   "metadata": {},
   "outputs": [
    {
     "data": {
      "text/plain": [
       "'24 is even'"
      ]
     },
     "execution_count": 3,
     "metadata": {},
     "output_type": "execute_result"
    }
   ],
   "source": [
    "even_or_odd(24)    ### Function Calling"
   ]
  },
  {
   "cell_type": "code",
   "execution_count": 4,
   "metadata": {},
   "outputs": [],
   "source": [
    "## Function with multiple parameters\n",
    "\n",
    "def calculator(num1,num2,operator): \n",
    "    if operator == \"+\":\n",
    "        return num1 + num2\n",
    "    elif operator == \"-\":\n",
    "        return num1 - num2\n",
    "    elif operator == \"*\":\n",
    "        return num1 * num2\n",
    "    elif operator == \"/\":\n",
    "        return num1 / num2\n",
    "    elif operator == \"**\":\n",
    "        return num1 ** num2\n",
    "    elif operator == \"//\":\n",
    "        return num1 // num2\n",
    "    elif operator == \"%\":\n",
    "        return num1 % num2\n",
    "    else:\n",
    "        return \"Invalid Input\"\n"
   ]
  },
  {
   "cell_type": "code",
   "execution_count": 8,
   "metadata": {},
   "outputs": [
    {
     "data": {
      "text/plain": [
       "30"
      ]
     },
     "execution_count": 8,
     "metadata": {},
     "output_type": "execute_result"
    }
   ],
   "source": [
    "res = calculator(10,20,\"+\")\n",
    "res"
   ]
  },
  {
   "cell_type": "code",
   "execution_count": 6,
   "metadata": {},
   "outputs": [
    {
     "data": {
      "text/plain": [
       "-10"
      ]
     },
     "execution_count": 6,
     "metadata": {},
     "output_type": "execute_result"
    }
   ],
   "source": [
    "calculator(10,20,\"-\")"
   ]
  },
  {
   "cell_type": "code",
   "execution_count": 7,
   "metadata": {},
   "outputs": [
    {
     "data": {
      "text/plain": [
       "200"
      ]
     },
     "execution_count": 7,
     "metadata": {},
     "output_type": "execute_result"
    }
   ],
   "source": [
    "calculator(10,20,\"*\")"
   ]
  },
  {
   "cell_type": "code",
   "execution_count": 13,
   "metadata": {},
   "outputs": [
    {
     "name": "stdout",
     "output_type": "stream",
     "text": [
      "hello learner welcome to learning python\n"
     ]
    }
   ],
   "source": [
    "### Default Parameters\n",
    "\n",
    "def greet(name=\"learner\"):    \n",
    "    print(f\"hello {name} welcome to learning python\")\n",
    "\n",
    "greet()   # If we don't give parameters it work with default parameter (learner)"
   ]
  },
  {
   "cell_type": "code",
   "execution_count": 14,
   "metadata": {},
   "outputs": [
    {
     "name": "stdout",
     "output_type": "stream",
     "text": [
      "hello Chandra welcome to learning python\n"
     ]
    }
   ],
   "source": [
    "greet(\"Chandra\")  # If we give the parameter it work with the given parameter"
   ]
  },
  {
   "cell_type": "code",
   "execution_count": 15,
   "metadata": {},
   "outputs": [],
   "source": [
    "### Variable Length arguments\n",
    "\n",
    "# Positional and Keywords Arguments\n",
    "\n",
    "# Positional arguments\n",
    "\n",
    "def printn(*args):     # If we want many parameters like (num1,num2,num3,num4,num5,.......) in that time we use * args\n",
    "    for n in args:\n",
    "        print(n)"
   ]
  },
  {
   "cell_type": "code",
   "execution_count": 17,
   "metadata": {},
   "outputs": [
    {
     "name": "stdout",
     "output_type": "stream",
     "text": [
      "1\n",
      "2\n",
      "3\n",
      "4\n",
      "5\n",
      "6\n",
      "7\n",
      "8\n",
      "9\n",
      "10\n"
     ]
    }
   ],
   "source": [
    "printn(1,2,3,4,5,6,7,8,9,10)"
   ]
  },
  {
   "cell_type": "code",
   "execution_count": 18,
   "metadata": {},
   "outputs": [],
   "source": [
    "# Keyword arguments\n",
    "\n",
    "def print_detail(**kwargs):   ## in keyword arguments all the parameters are in the form of key-value pairs\n",
    "\n",
    "    for key,value in kwargs.items():\n",
    "        print(f\"{key} : {value}\")\n"
   ]
  },
  {
   "cell_type": "code",
   "execution_count": 19,
   "metadata": {},
   "outputs": [
    {
     "name": "stdout",
     "output_type": "stream",
     "text": [
      "name : sandy\n",
      "age : 32\n",
      "department : BME\n"
     ]
    }
   ],
   "source": [
    "print_detail(name=\"sandy\",age=32,department=\"BME\")"
   ]
  },
  {
   "cell_type": "code",
   "execution_count": 23,
   "metadata": {},
   "outputs": [],
   "source": [
    "## combine both args and kwargs\n",
    "\n",
    "def printf(*args, **kwargs):\n",
    "    for val in args:\n",
    "        print(f\"{val}\")\n",
    "\n",
    "    for key,val in kwargs.items():\n",
    "        print(f\"{key} : {val}\")"
   ]
  },
  {
   "cell_type": "code",
   "execution_count": 24,
   "metadata": {},
   "outputs": [
    {
     "name": "stdout",
     "output_type": "stream",
     "text": [
      "1\n",
      "2\n",
      "3\n",
      "5\n",
      "name : sandy\n",
      "age : 32\n",
      "department : BME\n"
     ]
    }
   ],
   "source": [
    "printf(1,2,3,5,name=\"sandy\",age=32,department=\"BME\")"
   ]
  },
  {
   "cell_type": "code",
   "execution_count": 25,
   "metadata": {},
   "outputs": [
    {
     "ename": "SyntaxError",
     "evalue": "positional argument follows keyword argument (3390511012.py, line 1)",
     "output_type": "error",
     "traceback": [
      "\u001b[0;36m  Cell \u001b[0;32mIn[25], line 1\u001b[0;36m\u001b[0m\n\u001b[0;31m    printf(1,2,3,4,name=\"sandy\",age=32,department=\"BME\",4)\u001b[0m\n\u001b[0m                                                         ^\u001b[0m\n\u001b[0;31mSyntaxError\u001b[0m\u001b[0;31m:\u001b[0m positional argument follows keyword argument\n"
     ]
    }
   ],
   "source": [
    "printf(1,2,3,4,name=\"sandy\",age=32,department=\"BME\",4)   ## It will throw error because positional arguments takes place first"
   ]
  }
 ],
 "metadata": {
  "kernelspec": {
   "display_name": "venv",
   "language": "python",
   "name": "python3"
  },
  "language_info": {
   "codemirror_mode": {
    "name": "ipython",
    "version": 3
   },
   "file_extension": ".py",
   "mimetype": "text/x-python",
   "name": "python",
   "nbconvert_exporter": "python",
   "pygments_lexer": "ipython3",
   "version": "3.12.4"
  }
 },
 "nbformat": 4,
 "nbformat_minor": 2
}
