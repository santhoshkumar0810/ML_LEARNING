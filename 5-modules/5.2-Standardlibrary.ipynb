{
 "cells": [
  {
   "cell_type": "markdown",
   "metadata": {},
   "source": [
    "### Standard Library Overview\n",
    "\n",
    "Python's Standard Library is a vast collection of modules and packages that come bundled with Python, Providing a wide range of functionalities out of the box. Here's an overview of some of the most commonly used module and packages in the Python Standard Library\n"
   ]
  },
  {
   "cell_type": "code",
   "execution_count": 5,
   "metadata": {},
   "outputs": [],
   "source": [
    "## array\n",
    "\n",
    "import array\n",
    "\n",
    "# Syntax array.array(temp_var,[collection])\n",
    "arr = array.array('i',[1,2,3,4])"
   ]
  },
  {
   "cell_type": "code",
   "execution_count": 6,
   "metadata": {},
   "outputs": [
    {
     "data": {
      "text/plain": [
       "array.array"
      ]
     },
     "execution_count": 6,
     "metadata": {},
     "output_type": "execute_result"
    }
   ],
   "source": [
    "type(arr)"
   ]
  },
  {
   "cell_type": "code",
   "execution_count": 7,
   "metadata": {},
   "outputs": [
    {
     "data": {
      "text/plain": [
       "5.0"
      ]
     },
     "execution_count": 7,
     "metadata": {},
     "output_type": "execute_result"
    }
   ],
   "source": [
    "## Math Library\n",
    "\n",
    "import math\n",
    "\n",
    "math.sqrt(25)"
   ]
  },
  {
   "cell_type": "code",
   "execution_count": 10,
   "metadata": {},
   "outputs": [
    {
     "name": "stdout",
     "output_type": "stream",
     "text": [
      "2\n"
     ]
    }
   ],
   "source": [
    "## Random\n",
    "\n",
    "import random\n",
    "print(random.randint(1,10))  # Randint give random integer between the given parameters"
   ]
  },
  {
   "cell_type": "code",
   "execution_count": 13,
   "metadata": {},
   "outputs": [
    {
     "name": "stdout",
     "output_type": "stream",
     "text": [
      "Cherry\n"
     ]
    }
   ],
   "source": [
    "print(random.choice(['Apple','Banana',\"Cherry\"]))  # From the collection picking randomly"
   ]
  },
  {
   "cell_type": "code",
   "execution_count": 14,
   "metadata": {},
   "outputs": [
    {
     "name": "stdout",
     "output_type": "stream",
     "text": [
      "/home/sandy0810/Documents/ML_LEARNING/5-modules\n"
     ]
    }
   ],
   "source": [
    "# OS -> File and Directly Access\n",
    "\n",
    "import os\n",
    "\n",
    "print(os.getcwd())  ## getcwd  returns the current working directory"
   ]
  },
  {
   "cell_type": "code",
   "execution_count": 15,
   "metadata": {},
   "outputs": [],
   "source": [
    "os.mkdir(\"test_dir\") # It will create a new folder"
   ]
  },
  {
   "cell_type": "code",
   "execution_count": 16,
   "metadata": {},
   "outputs": [
    {
     "data": {
      "text/plain": [
       "'destination.txt'"
      ]
     },
     "execution_count": 16,
     "metadata": {},
     "output_type": "execute_result"
    }
   ],
   "source": [
    "## High level operations on files and collection of files\n",
    "\n",
    "import shutil\n",
    "\n",
    "shutil.copyfile('source.txt','destination.txt')"
   ]
  },
  {
   "cell_type": "code",
   "execution_count": 2,
   "metadata": {},
   "outputs": [],
   "source": [
    "## Data Serialization\n",
    "\n",
    "## Dictionary into JSON\n",
    "\n",
    "import json\n",
    "\n",
    "data = {'name':\"Sandy\",\"age\":21,\"Department\":\"BME\"}\n",
    "\n",
    "\n",
    "json_str = json.dumps(data)"
   ]
  },
  {
   "cell_type": "code",
   "execution_count": 3,
   "metadata": {},
   "outputs": [
    {
     "name": "stdout",
     "output_type": "stream",
     "text": [
      "{\"name\": \"Sandy\", \"age\": 21, \"Department\": \"BME\"}\n",
      "<class 'str'>\n"
     ]
    }
   ],
   "source": [
    "print(json_str)\n",
    "print(type(json_str))"
   ]
  },
  {
   "cell_type": "code",
   "execution_count": 6,
   "metadata": {},
   "outputs": [
    {
     "name": "stdout",
     "output_type": "stream",
     "text": [
      "{'name': 'Sandy', 'age': 21, 'Department': 'BME'}\n",
      "<class 'dict'>\n"
     ]
    }
   ],
   "source": [
    "### JSON into Dictionary\n",
    "\n",
    "parsed_data = json.loads(json_str)\n",
    "print(parsed_data)\n",
    "print(type(parsed_data))"
   ]
  },
  {
   "cell_type": "code",
   "execution_count": 10,
   "metadata": {},
   "outputs": [
    {
     "name": "stdout",
     "output_type": "stream",
     "text": [
      "['name', 'age']\n",
      "['Sandy', '21']\n"
     ]
    }
   ],
   "source": [
    "## CSV \n",
    "\n",
    "import csv\n",
    "\n",
    "with open(\"example.csv\",mode='w',newline='') as file:   # It will create a csv file with two records\n",
    "    writer = csv.writer(file) \n",
    "    writer.writerow(['name','age'])\n",
    "    writer.writerow(['Sandy',21])\n",
    "\n",
    "with open(\"example.csv\",mode='r') as file:   # It will read the CSV file\n",
    "    reader = csv.reader(file)\n",
    "    for row in reader:\n",
    "        print(row)\n",
    "\n"
   ]
  },
  {
   "cell_type": "code",
   "execution_count": 14,
   "metadata": {},
   "outputs": [
    {
     "name": "stdout",
     "output_type": "stream",
     "text": [
      "2024-10-14 20:38:56.793233\n"
     ]
    }
   ],
   "source": [
    "## Datetime\n",
    "\n",
    "from datetime import datetime,timedelta\n",
    "\n",
    "now = datetime.now()\n",
    "print(now)"
   ]
  },
  {
   "cell_type": "code",
   "execution_count": 15,
   "metadata": {},
   "outputs": [
    {
     "name": "stdout",
     "output_type": "stream",
     "text": [
      "2024-10-13 20:38:56.793233\n"
     ]
    }
   ],
   "source": [
    "yesterday = now - timedelta(days=1)\n",
    "print(yesterday)"
   ]
  },
  {
   "cell_type": "code",
   "execution_count": 17,
   "metadata": {},
   "outputs": [
    {
     "name": "stdout",
     "output_type": "stream",
     "text": [
      "1728918583.14454\n",
      "1728918585.1450062\n"
     ]
    }
   ],
   "source": [
    "## time\n",
    "\n",
    "import time\n",
    "\n",
    "print(time.time())\n",
    "time.sleep(2)      \n",
    "print(time.time())"
   ]
  },
  {
   "cell_type": "code",
   "execution_count": 21,
   "metadata": {},
   "outputs": [
    {
     "name": "stdout",
     "output_type": "stream",
     "text": [
      "123\n"
     ]
    }
   ],
   "source": [
    "## Regular expression\n",
    " \n",
    "import re   # It is used to match the specific pattern\n",
    "\n",
    "pattern = r'\\d+'   # d is digit\n",
    "\n",
    "text = 'There are 123 apples and 456 mangoes'\n",
    "\n",
    "match = re.search(pattern,text)\n",
    "\n",
    "print(match.group())\n",
    "\n"
   ]
  }
 ],
 "metadata": {
  "kernelspec": {
   "display_name": "venv",
   "language": "python",
   "name": "python3"
  },
  "language_info": {
   "codemirror_mode": {
    "name": "ipython",
    "version": 3
   },
   "file_extension": ".py",
   "mimetype": "text/x-python",
   "name": "python",
   "nbconvert_exporter": "python",
   "pygments_lexer": "ipython3",
   "version": "3.12.3"
  }
 },
 "nbformat": 4,
 "nbformat_minor": 2
}
