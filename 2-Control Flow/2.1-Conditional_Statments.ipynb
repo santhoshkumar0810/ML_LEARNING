{
 "cells": [
  {
   "cell_type": "markdown",
   "metadata": {
    "vscode": {
     "languageId": "plaintext"
    }
   },
   "source": [
    "### Conditional Statement  (If,elif,else)"
   ]
  },
  {
   "cell_type": "code",
   "execution_count": 5,
   "metadata": {},
   "outputs": [
    {
     "name": "stdout",
     "output_type": "stream",
     "text": [
      "You are allowed to vote in the election\n"
     ]
    }
   ],
   "source": [
    "### if statement -> Evaluate and execute the block of code\n",
    "\n",
    "age = 18\n",
    "\n",
    "if age >= 18:\n",
    "    print(\"You are allowed to vote in the election\")\n",
    "if age < 18:\n",
    "    print(\"You are Not allowed to vote in the election\")"
   ]
  },
  {
   "cell_type": "code",
   "execution_count": 7,
   "metadata": {},
   "outputs": [
    {
     "name": "stdout",
     "output_type": "stream",
     "text": [
      "You are allowed to vote in the election\n"
     ]
    }
   ],
   "source": [
    "### else statement -> execute the block of code if the condition in the if statement is block\n",
    "\n",
    "age = 18\n",
    "\n",
    "if age >= 18:\n",
    "    print(\"You are allowed to vote in the election\")\n",
    "else:\n",
    "    print(\"You are Not allowed to vote in the election\")"
   ]
  },
  {
   "cell_type": "code",
   "execution_count": 11,
   "metadata": {},
   "outputs": [
    {
     "name": "stdout",
     "output_type": "stream",
     "text": [
      "You are the third rank\n"
     ]
    }
   ],
   "source": [
    "### elif statement -> Allows you to check the multiple conditions\n",
    "### It stands for else if\n",
    "\n",
    "rank = 3\n",
    "\n",
    "if rank == 1:\n",
    "    print(\"You are the first rank\")\n",
    "elif rank == 2:\n",
    "    print(\"You are the second rank\")\n",
    "elif rank == 3:\n",
    "    print(\"You are the third rank\")\n",
    "else:\n",
    "    print(\"You are someother ranks\")\n"
   ]
  },
  {
   "cell_type": "code",
   "execution_count": 14,
   "metadata": {},
   "outputs": [
    {
     "name": "stdout",
     "output_type": "stream",
     "text": [
      "The number is zero\n",
      "The number is even\n"
     ]
    }
   ],
   "source": [
    "### Nested Conditional Statements\n",
    "### You can use conditional statements inside the conditional statements\n",
    "\n",
    "## Given number is even, odd, positive, negative\n",
    "\n",
    "num = int(input(\"Enter the number: \"))\n",
    "\n",
    "if num>0: \n",
    "    print(\"The number is positive\")\n",
    "    if num%2 == 0:\n",
    "        print(\"The number is even\")\n",
    "    else:\n",
    "        print(\"The number is odd\")\n",
    "\n",
    "elif num < 0:\n",
    "    print(\"The number is negative\")\n",
    "    if num%2 == 0:\n",
    "        print(\"The number is even\")\n",
    "    else:\n",
    "        print(\"The number is odd\")\n",
    "\n",
    "else:\n",
    "    print(\"The number is zero\")\n",
    "    print(\"The number is even\")\n"
   ]
  },
  {
   "cell_type": "code",
   "execution_count": 26,
   "metadata": {},
   "outputs": [
    {
     "name": "stdout",
     "output_type": "stream",
     "text": [
      "The given year is not a leap year\n"
     ]
    }
   ],
   "source": [
    "### Find the given year is leap year or not using Nested Contional statements\n",
    "\n",
    "year = int(input(\"Enter the year: \"))\n",
    "\n",
    "if year%4 ==0:\n",
    "    if year%100 ==0:\n",
    "        if year%400==0:\n",
    "            print(\"The given year is leap year\")\n",
    "        else:\n",
    "            print(\"The given year is not a leap year\")\n",
    "    else:\n",
    "        print(\"The given year is not a leap year\")\n",
    "\n",
    "else:\n",
    "    print(\"The given year is not a leap year\")"
   ]
  },
  {
   "cell_type": "code",
   "execution_count": 28,
   "metadata": {},
   "outputs": [
    {
     "name": "stdout",
     "output_type": "stream",
     "text": [
      "The second number is zero, so it throws error\n"
     ]
    }
   ],
   "source": [
    "### Simple Calculator program\n",
    "\n",
    "num1 = int(input(\"Enter the number 1: \"))\n",
    "num2 = int(input(\"Enter the number 2: \"))\n",
    "operator = input(\"Enter the operator (+,-,/,//,*,**,%): \")\n",
    "\n",
    "if operator == '+':\n",
    "    print(num1+num2)\n",
    "elif operator =='-':\n",
    "    print(num1-num2)\n",
    "elif operator =='*':\n",
    "    print(num1*num2)\n",
    "elif operator =='**':\n",
    "    print(num1**num2)\n",
    "elif operator =='/':\n",
    "    if num2!=0:\n",
    "        print(num1/num2)\n",
    "    else:\n",
    "        print(\"The second number is zero, so it throws error\")\n",
    "elif operator =='//':\n",
    "    if num2!=0:\n",
    "        print(num1//num2)\n",
    "    else:\n",
    "        print(\"The second number is zero, so it throws error\")\n",
    "elif operator =='%':\n",
    "    print(num1%num2)\n",
    "else:\n",
    "    print(\"Invalid Operator\")"
   ]
  }
 ],
 "metadata": {
  "kernelspec": {
   "display_name": "venv",
   "language": "python",
   "name": "python3"
  },
  "language_info": {
   "codemirror_mode": {
    "name": "ipython",
    "version": 3
   },
   "file_extension": ".py",
   "mimetype": "text/x-python",
   "name": "python",
   "nbconvert_exporter": "python",
   "pygments_lexer": "ipython3",
   "version": "3.12.4"
  }
 },
 "nbformat": 4,
 "nbformat_minor": 2
}
