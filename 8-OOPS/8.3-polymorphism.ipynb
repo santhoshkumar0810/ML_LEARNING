{
 "cells": [
  {
   "cell_type": "markdown",
   "metadata": {},
   "source": [
    "### Polymorphism\n",
    "\n",
    "Polymorphism is a core concept in Object-Oriented programming that allows objects of different classes to be treated as objects of a common superclass. It provides a way to perform a single action in different forms. Polymorphism is typically achieved through overriding and Abstract (\"interfaces\" in other language)"
   ]
  },
  {
   "cell_type": "markdown",
   "metadata": {},
   "source": [
    "### Method Overriding\n",
    "\n",
    "Method overriding allows a child class to provide a specific implementation of a method that is already defined in its parent class"
   ]
  },
  {
   "cell_type": "code",
   "execution_count": 9,
   "metadata": {},
   "outputs": [],
   "source": [
    "## Base class\n",
    "\n",
    "class Animal:\n",
    "    def speak(self):\n",
    "        return \"Sound of the animal\"\n",
    "    \n",
    "## Derived class 1\n",
    "\n",
    "class Dog(Animal):\n",
    "    def speak(self):\n",
    "        return \"Woff! This is the dog sound\"\n",
    "    \n",
    "\n",
    "## Derived Class 2\n",
    "\n",
    "class Cat(Animal):\n",
    "    def speak(self):\n",
    "        return \"Meow! This is the cat sound\"\n",
    "    \n",
    "\n",
    "\n",
    "## Function that demonstrates polymorphism\n",
    "\n",
    "def animal_speak(animal):\n",
    "    print(animal.speak())\n",
    "    \n",
    "\n"
   ]
  },
  {
   "cell_type": "code",
   "execution_count": 7,
   "metadata": {},
   "outputs": [],
   "source": [
    "laborador = Dog()\n",
    "cat = Cat()"
   ]
  },
  {
   "cell_type": "code",
   "execution_count": 12,
   "metadata": {},
   "outputs": [
    {
     "name": "stdout",
     "output_type": "stream",
     "text": [
      "Woff! This is the dog sound\n",
      "Meow! This is the cat sound\n",
      "Woff! This is the dog sound\n"
     ]
    }
   ],
   "source": [
    "print(laborador.speak())\n",
    "print(cat.speak())\n",
    "animal_speak(laborador)"
   ]
  },
  {
   "cell_type": "code",
   "execution_count": 14,
   "metadata": {},
   "outputs": [],
   "source": [
    "## Polymorphism with functions and methods\n",
    "\n",
    "# Base Class\n",
    "\n",
    "class Shape:\n",
    "    def area(self):\n",
    "        return \"The area of the figure\"\n",
    "    \n",
    "# Derived Class\n",
    "\n",
    "class Rectangle(Shape):\n",
    "    def __init__(self,height,width):\n",
    "        self.height = height\n",
    "        self.width = width\n",
    "\n",
    "    def area(self):\n",
    "        return self.width * self.height\n",
    "\n",
    "# Derived Class 2\n",
    "\n",
    "class Circle(Shape):\n",
    "    def __init__(self,radius):\n",
    "        self.radius = radius\n",
    "\n",
    "    def area (self):\n",
    "        return 3.14 * self.radius * self.radius\n",
    "    \n",
    "\n",
    "## Function that demonstarate Polymorphism\n",
    "\n",
    "def print_area(shape):\n",
    "    print(f\"The area is nothing but {shape.area()}\")\n"
   ]
  },
  {
   "cell_type": "code",
   "execution_count": 15,
   "metadata": {},
   "outputs": [],
   "source": [
    "r1 = Rectangle(4,5)\n",
    "c1 = Circle(5)"
   ]
  },
  {
   "cell_type": "code",
   "execution_count": 16,
   "metadata": {},
   "outputs": [
    {
     "name": "stdout",
     "output_type": "stream",
     "text": [
      "The area is nothing but 20\n",
      "The area is nothing but 78.5\n"
     ]
    }
   ],
   "source": [
    "print_area(r1)\n",
    "print_area(c1)"
   ]
  },
  {
   "cell_type": "markdown",
   "metadata": {},
   "source": [
    "### Polymorphism with Abstract base class\n",
    "\n",
    "Abstract Base Class (ABC) are used to define common methods for a group of related objects. They can enforce that derived classes implement particulare methods, promoting consistency across different implementations."
   ]
  },
  {
   "cell_type": "code",
   "execution_count": 20,
   "metadata": {},
   "outputs": [],
   "source": [
    "from abc import ABC,abstractmethod\n",
    "\n",
    "# abstractmethod is a decorator\n",
    "\n",
    "## Defining an abstract class\n",
    "\n",
    "class Vehicle(ABC):\n",
    "    @abstractmethod\n",
    "    def start_engine(self):\n",
    "        pass\n",
    "\n",
    "## Derived Class 1\n",
    "\n",
    "class Car(Vehicle):\n",
    "    def start_engine(self):\n",
    "        return \"Car engine Started\"\n",
    "    \n",
    "## Derived Class 2\n",
    "\n",
    "class Motorcycle(Vehicle):\n",
    "    def start_engine(self):\n",
    "        return \"MotorCycle engine started\"\n",
    "    \n",
    "\n",
    "## Function that demonstarted polymorphism\n",
    "\n",
    "def start_vehicle(vehicle):\n",
    "    print(vehicle.start_engine())\n",
    "    \n",
    "\n",
    "## Creating objects for the car and motorcycle\n",
    "\n",
    "c1 = Car()\n",
    "m1 = Motorcycle()"
   ]
  },
  {
   "cell_type": "code",
   "execution_count": 22,
   "metadata": {},
   "outputs": [
    {
     "name": "stdout",
     "output_type": "stream",
     "text": [
      "MotorCycle engine started\n",
      "Car engine Started\n"
     ]
    }
   ],
   "source": [
    "start_vehicle(m1)\n",
    "start_vehicle(c1)"
   ]
  }
 ],
 "metadata": {
  "kernelspec": {
   "display_name": "venv",
   "language": "python",
   "name": "python3"
  },
  "language_info": {
   "codemirror_mode": {
    "name": "ipython",
    "version": 3
   },
   "file_extension": ".py",
   "mimetype": "text/x-python",
   "name": "python",
   "nbconvert_exporter": "python",
   "pygments_lexer": "ipython3",
   "version": "3.12.3"
  }
 },
 "nbformat": 4,
 "nbformat_minor": 2
}
