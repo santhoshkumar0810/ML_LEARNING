{
 "cells": [
  {
   "cell_type": "markdown",
   "metadata": {},
   "source": [
    "## Inheritance\n",
    "\n",
    "Inheritance is a fundamental concept in Object-oriented Programming that allows a class to inherit attributes and methods from another class."
   ]
  },
  {
   "cell_type": "code",
   "execution_count": 1,
   "metadata": {},
   "outputs": [],
   "source": [
    "## Inheritance  (Single Inheritance)\n",
    "\n",
    "## Parent Class\n",
    "\n",
    "class Car:\n",
    "    \n",
    "    def __init__(self,windows,doors,engine_type):\n",
    "        self.windows = windows\n",
    "        self.doors = doors\n",
    "        self.engine_type = engine_type\n",
    "\n",
    "    def drive(self):\n",
    "        print(f'The person will drive the {self.engine_type } car')\n",
    "\n",
    "    \n",
    "\n"
   ]
  },
  {
   "cell_type": "code",
   "execution_count": 2,
   "metadata": {},
   "outputs": [],
   "source": [
    "bmw = Car(4,5,\"Diesel\")"
   ]
  },
  {
   "cell_type": "code",
   "execution_count": 3,
   "metadata": {},
   "outputs": [
    {
     "name": "stdout",
     "output_type": "stream",
     "text": [
      "The person will drive the Diesel car\n"
     ]
    }
   ],
   "source": [
    "bmw.drive()"
   ]
  },
  {
   "cell_type": "code",
   "execution_count": 4,
   "metadata": {},
   "outputs": [],
   "source": [
    "### Child Class\n",
    "\n",
    "class Tesla(Car):\n",
    "\n",
    "    def __init__(self,windows,doors,engine_type,is_self_driving):\n",
    "        super().__init__(windows,doors,engine_type)  ### super calls from the parent class\n",
    "        self.is_self_driving = is_self_driving\n",
    "\n",
    "    def self_driving(self):\n",
    "        if self.is_self_driving == True:\n",
    "            print(f'This type of Tesla car supports self driving')\n",
    "        else:\n",
    "            print(f'This type of Tesla car Not supports self driving')"
   ]
  },
  {
   "cell_type": "code",
   "execution_count": 5,
   "metadata": {},
   "outputs": [],
   "source": [
    "Tesla_1 = Tesla(4,5,\"Electric\",False)"
   ]
  },
  {
   "cell_type": "code",
   "execution_count": 7,
   "metadata": {},
   "outputs": [
    {
     "name": "stdout",
     "output_type": "stream",
     "text": [
      "This type of Tesla car Not supports self driving\n"
     ]
    }
   ],
   "source": [
    "Tesla_1.self_driving()"
   ]
  },
  {
   "cell_type": "code",
   "execution_count": 8,
   "metadata": {},
   "outputs": [
    {
     "name": "stdout",
     "output_type": "stream",
     "text": [
      "The person will drive the Electric car\n"
     ]
    }
   ],
   "source": [
    "Tesla_1.drive()"
   ]
  },
  {
   "cell_type": "code",
   "execution_count": 13,
   "metadata": {},
   "outputs": [],
   "source": [
    "### Multiple Inheritance\n",
    "\n",
    "## When a class inherits from more than one base class\n",
    "\n",
    "## Base class 1\n",
    "class Animal:\n",
    "    def __init__(self,name):\n",
    "        self.name = name\n",
    "\n",
    "    def run(self):\n",
    "        print(f'Subclass implement this method')\n",
    "\n",
    "\n",
    "## Base class 2\n",
    "\n",
    "class Pet:\n",
    "    def __init__(self,owner):\n",
    "        self.owner = owner\n",
    "\n",
    "\n",
    "## Derived class\n",
    "\n",
    "class Dog(Animal,Pet):\n",
    "    def __init__(self,name,owner):\n",
    "        Animal.__init__(self,name)\n",
    "        Pet.__init__(self,owner)\n",
    "\n",
    "    "
   ]
  },
  {
   "cell_type": "code",
   "execution_count": 14,
   "metadata": {},
   "outputs": [],
   "source": [
    "labor = Dog(\"Mani\",\"Sandy\")"
   ]
  }
 ],
 "metadata": {
  "kernelspec": {
   "display_name": "venv",
   "language": "python",
   "name": "python3"
  },
  "language_info": {
   "codemirror_mode": {
    "name": "ipython",
    "version": 3
   },
   "file_extension": ".py",
   "mimetype": "text/x-python",
   "name": "python",
   "nbconvert_exporter": "python",
   "pygments_lexer": "ipython3",
   "version": "3.12.3"
  }
 },
 "nbformat": 4,
 "nbformat_minor": 2
}
