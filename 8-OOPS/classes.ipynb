{
 "cells": [
  {
   "cell_type": "markdown",
   "metadata": {},
   "source": [
    "### Classes and Objects\n",
    "\n",
    "object-oriented Programming is a programming paradigm that uses \"Objects \" to design applications and computer programms. OOP allows for modeling real-world scenarios using classes and objects. This lesson covers the basics of creating classes and objects, including instances variables and methods}"
   ]
  },
  {
   "cell_type": "code",
   "execution_count": 27,
   "metadata": {},
   "outputs": [
    {
     "name": "stdout",
     "output_type": "stream",
     "text": [
      "<class '__main__.Car'>\n"
     ]
    }
   ],
   "source": [
    "### A class is a bue print for creating objects. Attributes, methods\n",
    "\n",
    "class Car:   ### creating class -> class(keyword) classname\n",
    "    pass\n",
    "\n",
    "audi = Car()\n",
    "bmw = Car()\n",
    "\n",
    "print(type(audi))"
   ]
  },
  {
   "cell_type": "code",
   "execution_count": 28,
   "metadata": {},
   "outputs": [
    {
     "name": "stdout",
     "output_type": "stream",
     "text": [
      "<__main__.Car object at 0x7b0eac712ed0>\n",
      "<__main__.Car object at 0x7b0ead104140>\n"
     ]
    }
   ],
   "source": [
    "print(audi)\n",
    "print(bmw)"
   ]
  },
  {
   "cell_type": "code",
   "execution_count": 29,
   "metadata": {},
   "outputs": [
    {
     "name": "stdout",
     "output_type": "stream",
     "text": [
      "4\n",
      "2\n"
     ]
    }
   ],
   "source": [
    "audi.windows  = 4  \n",
    "bmw.windows = 2\n",
    "print(audi.windows)\n",
    "print(bmw.windows)"
   ]
  },
  {
   "cell_type": "code",
   "execution_count": 30,
   "metadata": {},
   "outputs": [
    {
     "data": {
      "text/plain": [
       "['__class__',\n",
       " '__delattr__',\n",
       " '__dict__',\n",
       " '__dir__',\n",
       " '__doc__',\n",
       " '__eq__',\n",
       " '__format__',\n",
       " '__ge__',\n",
       " '__getattribute__',\n",
       " '__getstate__',\n",
       " '__gt__',\n",
       " '__hash__',\n",
       " '__init__',\n",
       " '__init_subclass__',\n",
       " '__le__',\n",
       " '__lt__',\n",
       " '__module__',\n",
       " '__ne__',\n",
       " '__new__',\n",
       " '__reduce__',\n",
       " '__reduce_ex__',\n",
       " '__repr__',\n",
       " '__setattr__',\n",
       " '__sizeof__',\n",
       " '__str__',\n",
       " '__subclasshook__',\n",
       " '__weakref__',\n",
       " 'windows']"
      ]
     },
     "execution_count": 30,
     "metadata": {},
     "output_type": "execute_result"
    }
   ],
   "source": [
    "dir(bmw)  "
   ]
  },
  {
   "cell_type": "code",
   "execution_count": 31,
   "metadata": {},
   "outputs": [
    {
     "name": "stdout",
     "output_type": "stream",
     "text": [
      "<__main__.Dog object at 0x7b0eac712a20>\n",
      "Mani\n",
      "10\n",
      "Mani can sleep\n",
      "Mani can bark\n"
     ]
    }
   ],
   "source": [
    "### Instance Variables and Methods\n",
    "\n",
    "class Dog:\n",
    "\n",
    "    ### Constructor\n",
    "    def __init__(self,name,age):  ## self is a keyword will be responsible accessing the instance variable\n",
    "        self.name = name   ## Instance Variables\n",
    "        self.age = age\n",
    "\n",
    "    def sleep(self):     ### Instance method\n",
    "        print(f\"{self.name} can sleep\")\n",
    "    def bark(self):\n",
    "        print(f'{self.name} can bark')\n",
    "\n",
    "## creating object\n",
    "\n",
    "laborador = Dog(\"Mani\",10)\n",
    "\n",
    "## printing \n",
    "\n",
    "print(laborador)\n",
    "\n",
    "print(laborador.name)\n",
    "\n",
    "print(laborador.age)\n",
    "        \n",
    "laborador.sleep()\n",
    "\n",
    "laborador.bark()"
   ]
  },
  {
   "cell_type": "code",
   "execution_count": 32,
   "metadata": {},
   "outputs": [],
   "source": [
    "### Modelling a Bank Account\n",
    "\n",
    "### Define a class for bank account\n",
    "\n",
    "\n",
    "class BankAccount():\n",
    "    def __init__(self,owner_name,owner_balance = 0):\n",
    "        self.owner_name = owner_name\n",
    "        self.owner_balance = owner_balance\n",
    "\n",
    "    def deposit(self,amount):\n",
    "        self.owner_balance += amount\n",
    "        print(f\"{amount} is deposited, You want to check balance click the balance button !\")\n",
    "\n",
    "\n",
    "    def withdraw(self,amount):\n",
    "        if amount > self.owner_balance:\n",
    "            print(\"Insufficient funds!!!\")\n",
    "        else:\n",
    "            self.owner_balance -= amount\n",
    "        print(f\"The amount {amount} is withdrawed, You want to check balance click the balance button !\")\n",
    "\n",
    "\n",
    "    def print_balance(self):\n",
    "        print(f\"The available balance is {self.owner_balance}\")\n"
   ]
  },
  {
   "cell_type": "code",
   "execution_count": 33,
   "metadata": {},
   "outputs": [],
   "source": [
    "sandy_account = BankAccount(\"sandy\",500000)"
   ]
  },
  {
   "cell_type": "code",
   "execution_count": 34,
   "metadata": {},
   "outputs": [
    {
     "name": "stdout",
     "output_type": "stream",
     "text": [
      "The available balance is 500000\n"
     ]
    }
   ],
   "source": [
    "sandy_account.print_balance()"
   ]
  },
  {
   "cell_type": "code",
   "execution_count": 35,
   "metadata": {},
   "outputs": [
    {
     "name": "stdout",
     "output_type": "stream",
     "text": [
      "1000 is deposited, You want to check balance click the balance button !\n"
     ]
    }
   ],
   "source": [
    "sandy_account.deposit(1000)"
   ]
  },
  {
   "cell_type": "code",
   "execution_count": 36,
   "metadata": {},
   "outputs": [
    {
     "name": "stdout",
     "output_type": "stream",
     "text": [
      "The available balance is 501000\n"
     ]
    }
   ],
   "source": [
    "sandy_account.print_balance()"
   ]
  },
  {
   "cell_type": "code",
   "execution_count": 37,
   "metadata": {},
   "outputs": [
    {
     "name": "stdout",
     "output_type": "stream",
     "text": [
      "The amount 1000 is withdrawed, You want to check balance click the balance button !\n"
     ]
    }
   ],
   "source": [
    "sandy_account.withdraw(1000)"
   ]
  },
  {
   "cell_type": "code",
   "execution_count": 38,
   "metadata": {},
   "outputs": [
    {
     "name": "stdout",
     "output_type": "stream",
     "text": [
      "The available balance is 500000\n"
     ]
    }
   ],
   "source": [
    "sandy_account.print_balance()"
   ]
  }
 ],
 "metadata": {
  "kernelspec": {
   "display_name": "venv",
   "language": "python",
   "name": "python3"
  },
  "language_info": {
   "codemirror_mode": {
    "name": "ipython",
    "version": 3
   },
   "file_extension": ".py",
   "mimetype": "text/x-python",
   "name": "python",
   "nbconvert_exporter": "python",
   "pygments_lexer": "ipython3",
   "version": "3.12.3"
  }
 },
 "nbformat": 4,
 "nbformat_minor": 2
}
