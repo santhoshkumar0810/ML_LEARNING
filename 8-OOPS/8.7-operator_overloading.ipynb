{
 "cells": [
  {
   "cell_type": "markdown",
   "metadata": {},
   "source": [
    "### Operator Overloading\n",
    "\n",
    "Operator overloading allows you to define the behavior of operators (+,-,*,/) for custom objects. You achieve this by overriding specific magic methods in you class"
   ]
  },
  {
   "cell_type": "code",
   "execution_count": 14,
   "metadata": {},
   "outputs": [
    {
     "data": {
      "text/plain": [
       "'\\n\\n__add__(self,other): Adds two objects using the + operator.\\n__sub__(self,other): Subtracts two objects using the - operator.\\n__mul__(self,other): Multiply two objects using the * operator.\\n__truediv__(self,other) : Divides two objects using the / operator.\\n__eq__(self, other) : Checks if two objects are equal using the == operator.\\n__lt__(self,other)  : Checks if two objects is less than another using the < operator\\n__gt__(self,other)  : Checks if two objects is greater than another using the > operator\\n \\n'"
      ]
     },
     "execution_count": 14,
     "metadata": {},
     "output_type": "execute_result"
    }
   ],
   "source": [
    "### Common Operator Overloading Magic Methods\n",
    "\n",
    "\"\"\"\n",
    "\n",
    "__add__(self,other): Adds two objects using the + operator.\n",
    "__sub__(self,other): Subtracts two objects using the - operator.\n",
    "__mul__(self,other): Multiply two objects using the * operator.\n",
    "__truediv__(self,other) : Divides two objects using the / operator.\n",
    "__eq__(self, other) : Checks if two objects are equal using the == operator.\n",
    "__lt__(self,other)  : Checks if two objects is less than another using the < operator\n",
    "__gt__(self,other)  : Checks if two objects is greater than another using the > operator\n",
    " \n",
    "\"\"\""
   ]
  },
  {
   "cell_type": "code",
   "execution_count": 15,
   "metadata": {},
   "outputs": [],
   "source": [
    "class Vector:\n",
    "\n",
    "    def __init__(self,x,y):\n",
    "        self.x = x\n",
    "        self.y = y\n",
    "\n",
    "    def __add__(self,other):\n",
    "        return Vector(self.x + other.x, self.y + other.y)\n",
    "    def __sub__(self,other):\n",
    "        return Vector(self.x - other.x, self.y - other.y)\n",
    "    def __mul__(self,other):\n",
    "        return Vector(self.x * other, self.y * other)\n",
    "    def __eq__(self,other):\n",
    "        return Vector(self.x == other.x, self.y == other.y)\n",
    "    def __repr__(self):\n",
    "        return f\"Vector {self.x} and {self.y}\"\n"
   ]
  },
  {
   "cell_type": "code",
   "execution_count": 16,
   "metadata": {},
   "outputs": [],
   "source": [
    "v1 = Vector(2,3)\n",
    "v2 = Vector(4,5)"
   ]
  },
  {
   "cell_type": "code",
   "execution_count": 17,
   "metadata": {},
   "outputs": [
    {
     "name": "stdout",
     "output_type": "stream",
     "text": [
      "Vector 6 and 8\n"
     ]
    }
   ],
   "source": [
    "print(v1+v2)"
   ]
  },
  {
   "cell_type": "code",
   "execution_count": 18,
   "metadata": {},
   "outputs": [
    {
     "name": "stdout",
     "output_type": "stream",
     "text": [
      "Vector -2 and -2\n"
     ]
    }
   ],
   "source": [
    "print(v1-v2)"
   ]
  },
  {
   "cell_type": "code",
   "execution_count": 20,
   "metadata": {},
   "outputs": [
    {
     "name": "stdout",
     "output_type": "stream",
     "text": [
      "Vector 12 and 15\n"
     ]
    }
   ],
   "source": [
    "print(v2*3)"
   ]
  }
 ],
 "metadata": {
  "kernelspec": {
   "display_name": "venv",
   "language": "python",
   "name": "python3"
  },
  "language_info": {
   "codemirror_mode": {
    "name": "ipython",
    "version": 3
   },
   "file_extension": ".py",
   "mimetype": "text/x-python",
   "name": "python",
   "nbconvert_exporter": "python",
   "pygments_lexer": "ipython3",
   "version": "3.12.3"
  }
 },
 "nbformat": 4,
 "nbformat_minor": 2
}
