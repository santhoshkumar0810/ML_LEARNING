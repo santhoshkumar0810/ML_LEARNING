{
 "cells": [
  {
   "cell_type": "markdown",
   "metadata": {},
   "source": [
    "### Abstraction\n",
    "\n",
    "Abstraction is the concept of hiding the complex implementation details and showing only the necessary feature of an object. This helps in reducing programming complexity and effort"
   ]
  },
  {
   "cell_type": "code",
   "execution_count": 3,
   "metadata": {},
   "outputs": [],
   "source": [
    "from abc import ABC,abstractmethod ### It is used for abstraction\n",
    "\n",
    "### Abstract Class\n",
    "\n",
    "class Vehicle(ABC):\n",
    "    def drive(self):   ### This is the normal method\n",
    "        print(\"The car is used for driving\")\n",
    "\n",
    "    @abstractmethod   ### It gives the necessary feature of the object, We can implement this function with our own way\n",
    "    def start_engine(self):\n",
    "        pass\n",
    "\n",
    "\n",
    "## Chile Class\n",
    "\n",
    "class Car(Vehicle):\n",
    "\n",
    "    def start_engine(self):\n",
    "        print(\"Car Engine Started!....\")\n",
    "\n",
    "\n",
    "def operate_vehicle(vehicle):\n",
    "    vehicle.start_engine()\n",
    "\n",
    "\n",
    "c1 = Car()\n",
    "\n"
   ]
  },
  {
   "cell_type": "code",
   "execution_count": 4,
   "metadata": {},
   "outputs": [
    {
     "name": "stdout",
     "output_type": "stream",
     "text": [
      "Car Engine Started!....\n"
     ]
    }
   ],
   "source": [
    "operate_vehicle(c1)"
   ]
  }
 ],
 "metadata": {
  "kernelspec": {
   "display_name": "venv",
   "language": "python",
   "name": "python3"
  },
  "language_info": {
   "codemirror_mode": {
    "name": "ipython",
    "version": 3
   },
   "file_extension": ".py",
   "mimetype": "text/x-python",
   "name": "python",
   "nbconvert_exporter": "python",
   "pygments_lexer": "ipython3",
   "version": "3.12.3"
  }
 },
 "nbformat": 4,
 "nbformat_minor": 2
}
