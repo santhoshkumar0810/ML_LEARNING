{
 "cells": [
  {
   "cell_type": "markdown",
   "metadata": {},
   "source": [
    "### Exception Handling\n",
    "\n",
    "### Understanding Exceptions\n",
    "\n",
    "Exception handling allows you to handle erros gracefully and take corrective actiosn without stopping the execution of the program.\n"
   ]
  },
  {
   "cell_type": "markdown",
   "metadata": {},
   "source": [
    "### What are Exceptions?\n",
    "\n",
    "Exceptions are events that disrupt the normal flow of program. They occur when an error is encountered during program execution. Common exceptions include:\n",
    "\n",
    "        *  ZeroDivionsError : Divion by zero\n",
    "        *  FileNotFoundError: File Not found\n",
    "        *  ValueError       : Invalid Value\n",
    "        *  TypeError        : Invalid type\n",
    "        *  NameError        : Name is not found"
   ]
  },
  {
   "cell_type": "code",
   "execution_count": 1,
   "metadata": {},
   "outputs": [
    {
     "ename": "NameError",
     "evalue": "name 'b' is not defined",
     "output_type": "error",
     "traceback": [
      "\u001b[0;31m---------------------------------------------------------------------------\u001b[0m",
      "\u001b[0;31mNameError\u001b[0m                                 Traceback (most recent call last)",
      "Cell \u001b[0;32mIn[1], line 1\u001b[0m\n\u001b[0;32m----> 1\u001b[0m a \u001b[38;5;241m=\u001b[39m \u001b[43mb\u001b[49m \n",
      "\u001b[0;31mNameError\u001b[0m: name 'b' is not defined"
     ]
    }
   ],
   "source": [
    "a = b # Name Error"
   ]
  },
  {
   "cell_type": "code",
   "execution_count": 2,
   "metadata": {},
   "outputs": [
    {
     "name": "stdout",
     "output_type": "stream",
     "text": [
      "Hey give the value\n"
     ]
    }
   ],
   "source": [
    "## Handling NameError\n",
    "\n",
    "try:\n",
    "    a = b\n",
    "\n",
    "except:\n",
    "    print(\"Hey give the value\")    ## Now the error is not shown but it shows the our message\n"
   ]
  },
  {
   "cell_type": "code",
   "execution_count": 3,
   "metadata": {},
   "outputs": [
    {
     "name": "stdout",
     "output_type": "stream",
     "text": [
      "name 'b' is not defined\n"
     ]
    }
   ],
   "source": [
    "try:\n",
    "    a = b\n",
    "\n",
    "except NameError as ex:     ## Here used the NameError clause\n",
    "    print(ex)"
   ]
  },
  {
   "cell_type": "code",
   "execution_count": 6,
   "metadata": {},
   "outputs": [
    {
     "ename": "ZeroDivisionError",
     "evalue": "division by zero",
     "output_type": "error",
     "traceback": [
      "\u001b[0;31m---------------------------------------------------------------------------\u001b[0m",
      "\u001b[0;31mZeroDivisionError\u001b[0m                         Traceback (most recent call last)",
      "Cell \u001b[0;32mIn[6], line 1\u001b[0m\n\u001b[0;32m----> 1\u001b[0m a \u001b[38;5;241m=\u001b[39m \u001b[38;5;241;43m10\u001b[39;49m\u001b[38;5;241;43m/\u001b[39;49m\u001b[38;5;241;43m0\u001b[39;49m\n",
      "\u001b[0;31mZeroDivisionError\u001b[0m: division by zero"
     ]
    }
   ],
   "source": [
    "a = 10/0"
   ]
  },
  {
   "cell_type": "code",
   "execution_count": 7,
   "metadata": {},
   "outputs": [
    {
     "name": "stdout",
     "output_type": "stream",
     "text": [
      "division by zero\n",
      "Enter the denomiator other than zero\n"
     ]
    }
   ],
   "source": [
    "try:\n",
    "    a = 10/0\n",
    "except ZeroDivisionError as zde:\n",
    "    print(zde)\n",
    "    print(\"Enter the denominator other than zero\")"
   ]
  },
  {
   "cell_type": "code",
   "execution_count": 8,
   "metadata": {},
   "outputs": [
    {
     "ename": "NameError",
     "evalue": "name 'b' is not defined",
     "output_type": "error",
     "traceback": [
      "\u001b[0;31m---------------------------------------------------------------------------\u001b[0m",
      "\u001b[0;31mNameError\u001b[0m                                 Traceback (most recent call last)",
      "Cell \u001b[0;32mIn[8], line 3\u001b[0m\n\u001b[1;32m      1\u001b[0m \u001b[38;5;28;01mtry\u001b[39;00m:\n\u001b[1;32m      2\u001b[0m     a \u001b[38;5;241m=\u001b[39m \u001b[38;5;241m1\u001b[39m\u001b[38;5;241m/\u001b[39m\u001b[38;5;241m2\u001b[39m\n\u001b[0;32m----> 3\u001b[0m     a \u001b[38;5;241m=\u001b[39m \u001b[43mb\u001b[49m\n\u001b[1;32m      5\u001b[0m \u001b[38;5;28;01mexcept\u001b[39;00m \u001b[38;5;167;01mZeroDivisionError\u001b[39;00m \u001b[38;5;28;01mas\u001b[39;00m zde:\n\u001b[1;32m      6\u001b[0m     \u001b[38;5;28mprint\u001b[39m(zed)\n",
      "\u001b[0;31mNameError\u001b[0m: name 'b' is not defined"
     ]
    }
   ],
   "source": [
    "try:\n",
    "    a = 1/2\n",
    "    a = b\n",
    "\n",
    "except ZeroDivisionError as zde:\n",
    "    print(zed)"
   ]
  },
  {
   "cell_type": "code",
   "execution_count": 12,
   "metadata": {},
   "outputs": [
    {
     "name": "stdout",
     "output_type": "stream",
     "text": [
      "name 'b' is not defined\n"
     ]
    }
   ],
   "source": [
    "try:\n",
    "    a = 1/2\n",
    "    a = b\n",
    "    \n",
    "\n",
    "except Exception as e:  ### Exception is the parent class of all the classes (zerodivisionerror,nameerror,fileerror)\n",
    "    print(e)"
   ]
  },
  {
   "cell_type": "code",
   "execution_count": 18,
   "metadata": {},
   "outputs": [
    {
     "name": "stdout",
     "output_type": "stream",
     "text": [
      "invalid literal for int() with base 10: 'b'\n"
     ]
    }
   ],
   "source": [
    "try:\n",
    "    a = 1/2\n",
    "    a = int('b')\n",
    "\n",
    "except NameError as ne:\n",
    "    print(ne)\n",
    "except ValueError as e:\n",
    "    print(e)"
   ]
  },
  {
   "cell_type": "code",
   "execution_count": null,
   "metadata": {},
   "outputs": [
    {
     "name": "stdout",
     "output_type": "stream",
     "text": [
      "The result is 2.0\n"
     ]
    }
   ],
   "source": [
    "### try,except,else block\n",
    "\n",
    "try:\n",
    "    num = int(input(\"Enter a number: \"))\n",
    "\n",
    "    result = 10/num\n",
    "\n",
    "except ValueError as ve:\n",
    "    print(\"This is not a valid number\")\n",
    "\n",
    "except ZeroDivisionError as zde:\n",
    "    print(\"You can't divide by zero\")\n",
    "\n",
    "except Exception as e:\n",
    "    print(e)\n",
    "\n",
    "else:\n",
    "    print(f'The result is {result}')"
   ]
  },
  {
   "cell_type": "code",
   "execution_count": 23,
   "metadata": {},
   "outputs": [
    {
     "name": "stdout",
     "output_type": "stream",
     "text": [
      "You can't divide by zero\n",
      "Development is completed\n"
     ]
    }
   ],
   "source": [
    "### try,except,else and finally\n",
    "\n",
    "try:\n",
    "    num = int(input(\"Enter a number: \"))\n",
    "\n",
    "    result = 10/num\n",
    "\n",
    "except ValueError as ve:\n",
    "    print(\"This is not a valid number\")\n",
    "\n",
    "except ZeroDivisionError as zde:\n",
    "    print(\"You can't divide by zero\")\n",
    "\n",
    "except Exception as e:\n",
    "    print(e)\n",
    "\n",
    "else:\n",
    "    print(f'The result is {result}')\n",
    "\n",
    "finally:\n",
    "    print(\"Development is completed\")\n"
   ]
  }
 ],
 "metadata": {
  "kernelspec": {
   "display_name": "venv",
   "language": "python",
   "name": "python3"
  },
  "language_info": {
   "codemirror_mode": {
    "name": "ipython",
    "version": 3
   },
   "file_extension": ".py",
   "mimetype": "text/x-python",
   "name": "python",
   "nbconvert_exporter": "python",
   "pygments_lexer": "ipython3",
   "version": "3.12.3"
  }
 },
 "nbformat": 4,
 "nbformat_minor": 2
}
