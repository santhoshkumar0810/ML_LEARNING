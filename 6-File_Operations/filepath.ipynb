{
 "cells": [
  {
   "cell_type": "markdown",
   "metadata": {},
   "source": [
    "### filepath"
   ]
  },
  {
   "cell_type": "code",
   "execution_count": 1,
   "metadata": {},
   "outputs": [
    {
     "name": "stdout",
     "output_type": "stream",
     "text": [
      "Current working directory is /home/sandy0810/Documents/ML_LEARNING/6-File_Operations\n"
     ]
    }
   ],
   "source": [
    "## Getting the current working directory\n",
    "\n",
    "import os\n",
    "\n",
    "cwd = os.getcwd()\n",
    "\n",
    "print(f'Current working directory is {cwd}')\n"
   ]
  },
  {
   "cell_type": "code",
   "execution_count": 2,
   "metadata": {},
   "outputs": [
    {
     "name": "stdout",
     "output_type": "stream",
     "text": [
      "Directory package is created\n"
     ]
    }
   ],
   "source": [
    "### Create a new directory\n",
    "\n",
    "new_directory = \"package\"\n",
    "\n",
    "os.mkdir(new_directory)\n",
    "\n",
    "print(f\"Directory {new_directory} is created\")"
   ]
  },
  {
   "cell_type": "code",
   "execution_count": 4,
   "metadata": {},
   "outputs": [
    {
     "name": "stdout",
     "output_type": "stream",
     "text": [
      "['package', 'example.txt', 'filepath.ipynb', '6.1-fileoperation.ipynb', 'example.bin', 'destination.txt']\n"
     ]
    }
   ],
   "source": [
    "## Listing files and Directory\n",
    "\n",
    "items = os.listdir('.')  # '.' is used for current working directory\n",
    "print(items)"
   ]
  },
  {
   "cell_type": "code",
   "execution_count": 8,
   "metadata": {},
   "outputs": [
    {
     "name": "stdout",
     "output_type": "stream",
     "text": [
      "folder/file.txt\n"
     ]
    }
   ],
   "source": [
    "### Joining paths  -> Most important\n",
    "\n",
    "dir_name = \"folder\"\n",
    "\n",
    "file_name = \"file.txt\"\n",
    "\n",
    "relative_path = os.path.join(dir_name,file_name)\n",
    "\n",
    "print(relative_path)"
   ]
  },
  {
   "cell_type": "code",
   "execution_count": 10,
   "metadata": {},
   "outputs": [
    {
     "name": "stdout",
     "output_type": "stream",
     "text": [
      "/home/sandy0810/Documents/ML_LEARNING/6-File_Operations/folder/file.txt\n"
     ]
    }
   ],
   "source": [
    "dir_name = \"folder\"\n",
    "\n",
    "file_name = \"file.txt\"\n",
    "\n",
    "Full_path = os.path.join(os.getcwd(),dir_name,file_name)\n",
    "\n",
    "print(Full_path)"
   ]
  },
  {
   "cell_type": "code",
   "execution_count": 12,
   "metadata": {},
   "outputs": [
    {
     "name": "stdout",
     "output_type": "stream",
     "text": [
      "The path is not exists\n"
     ]
    }
   ],
   "source": [
    "## Checking in the file is present or not in the path\n",
    "\n",
    "path = 'example1.txt'\n",
    "\n",
    "if os.path.exists(path):\n",
    "    print(f\"The file in the  path is exists\")\n",
    "\n",
    "else:\n",
    "    print(f\"The file in the path is not exists\")"
   ]
  },
  {
   "cell_type": "code",
   "execution_count": 14,
   "metadata": {},
   "outputs": [
    {
     "name": "stdout",
     "output_type": "stream",
     "text": [
      "This path is a directory\n"
     ]
    }
   ],
   "source": [
    "path_1 = 'package'\n",
    "\n",
    "if os.path.isfile(path_1):\n",
    "    print(\"The path is a file\")\n",
    "\n",
    "elif os.path.isdir(path_1):\n",
    "    print(\"This path is a directory\")\n",
    "else:\n",
    "    print(\"This is neither a file nor a directory\")"
   ]
  },
  {
   "cell_type": "code",
   "execution_count": 15,
   "metadata": {},
   "outputs": [
    {
     "name": "stdout",
     "output_type": "stream",
     "text": [
      "/home/sandy0810/Documents/ML_LEARNING/6-File_Operations/example.txt\n"
     ]
    }
   ],
   "source": [
    "## Getting the absolute path (full path of the file)\n",
    "\n",
    "relative_path = 'example.txt'\n",
    "\n",
    "absolute_path = os.path.abspath(relative_path)\n",
    "print(absolute_path)"
   ]
  }
 ],
 "metadata": {
  "kernelspec": {
   "display_name": "venv",
   "language": "python",
   "name": "python3"
  },
  "language_info": {
   "codemirror_mode": {
    "name": "ipython",
    "version": 3
   },
   "file_extension": ".py",
   "mimetype": "text/x-python",
   "name": "python",
   "nbconvert_exporter": "python",
   "pygments_lexer": "ipython3",
   "version": "3.12.3"
  }
 },
 "nbformat": 4,
 "nbformat_minor": 2
}
