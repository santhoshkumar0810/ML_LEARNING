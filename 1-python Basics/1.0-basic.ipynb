{
 "cells": [
  {
   "cell_type": "markdown",
   "metadata": {},
   "source": [
    "### Syntax and Semantics"
   ]
  },
  {
   "cell_type": "code",
   "execution_count": 1,
   "metadata": {},
   "outputs": [],
   "source": [
    "### Single Line comment and MultiLine Comment\n",
    "### print(\"Hello World\")\n",
    "# Multi Line comment doesn't work in ipynb file (\"\"\"Write here for multiline command\"\"\")"
   ]
  },
  {
   "cell_type": "code",
   "execution_count": 2,
   "metadata": {},
   "outputs": [
    {
     "name": "stdout",
     "output_type": "stream",
     "text": [
      "Santhosh Kumar\n"
     ]
    }
   ],
   "source": [
    "# Python is a case sensitive language\n",
    "\n",
    "name = \"Santhosh\"\n",
    "Name = \"Kumar\"\n",
    "\n",
    "print(name,Name)  # both are different variable"
   ]
  },
  {
   "cell_type": "code",
   "execution_count": 3,
   "metadata": {},
   "outputs": [
    {
     "name": "stdout",
     "output_type": "stream",
     "text": [
      "1 2 3 \n",
      " 3\n"
     ]
    }
   ],
   "source": [
    "## Indentation - Python Uses indentation to define blocks of code. Consistent use of Spaces (4) or tab\n",
    "for i in range(1,4):\n",
    "    print(i,end=\" \")         #  print statement is inside the for loop\n",
    "\n",
    "print(\"\\n\",i)    "
   ]
  },
  {
   "cell_type": "code",
   "execution_count": 4,
   "metadata": {},
   "outputs": [
    {
     "name": "stdout",
     "output_type": "stream",
     "text": [
      "55\n"
     ]
    }
   ],
   "source": [
    "# Line Continuation\n",
    "\n",
    "total = 1+2+3+4+\\\n",
    "5+6+7+8+9+10\n",
    "print(total)"
   ]
  },
  {
   "cell_type": "code",
   "execution_count": 5,
   "metadata": {},
   "outputs": [
    {
     "name": "stdout",
     "output_type": "stream",
     "text": [
      "15\n"
     ]
    }
   ],
   "source": [
    "### Multiple statement on a Single Line\n",
    "\n",
    "x=5;y=10;z=x+y;print(z)"
   ]
  },
  {
   "cell_type": "code",
   "execution_count": 6,
   "metadata": {},
   "outputs": [
    {
     "name": "stdout",
     "output_type": "stream",
     "text": [
      "<class 'int'>\n",
      "<class 'str'>\n"
     ]
    }
   ],
   "source": [
    "### Understanding Semantics in Python\n",
    "#variable Assignment \n",
    "age = 32          ## age is an integer\n",
    "name = \"Santhosh\" ## name is a string\n",
    "print(type(age))  ## Type Inferences\n",
    "print(type(name))"
   ]
  },
  {
   "cell_type": "code",
   "execution_count": 7,
   "metadata": {},
   "outputs": [
    {
     "name": "stdout",
     "output_type": "stream",
     "text": [
      "<class 'int'>\n"
     ]
    }
   ],
   "source": [
    "### During the run time we change the type of the variable\n",
    "name = 32\n",
    "print(type(name))"
   ]
  }
 ],
 "metadata": {
  "kernelspec": {
   "display_name": "venv",
   "language": "python",
   "name": "python3"
  },
  "language_info": {
   "codemirror_mode": {
    "name": "ipython",
    "version": 3
   },
   "file_extension": ".py",
   "mimetype": "text/x-python",
   "name": "python",
   "nbconvert_exporter": "python",
   "pygments_lexer": "ipython3",
   "version": "3.12.4"
  }
 },
 "nbformat": 4,
 "nbformat_minor": 2
}
