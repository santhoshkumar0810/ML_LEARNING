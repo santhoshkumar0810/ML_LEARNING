{
 "cells": [
  {
   "cell_type": "markdown",
   "metadata": {},
   "source": [
    "### Dictionaries \n",
    "\n",
    "It is an unordered collections of items, store data in key-value pairs, keys must be unique and immutable, while values can be of any type. Values are Mutable"
   ]
  },
  {
   "cell_type": "code",
   "execution_count": 21,
   "metadata": {},
   "outputs": [
    {
     "name": "stdout",
     "output_type": "stream",
     "text": [
      "<class 'dict'>\n"
     ]
    }
   ],
   "source": [
    "### Creating Dictionaries\n",
    "\n",
    "empty_dict = dict()\n",
    "print(type(empty_dict))"
   ]
  },
  {
   "cell_type": "code",
   "execution_count": 22,
   "metadata": {},
   "outputs": [
    {
     "name": "stdout",
     "output_type": "stream",
     "text": [
      "<class 'dict'>\n"
     ]
    }
   ],
   "source": [
    "empty_dict1 = {}\n",
    "print(type(empty_dict1))"
   ]
  },
  {
   "cell_type": "code",
   "execution_count": 23,
   "metadata": {},
   "outputs": [
    {
     "data": {
      "text/plain": [
       "{'name': 'Santhosh', 'age': 32, 'grade': 24}"
      ]
     },
     "execution_count": 23,
     "metadata": {},
     "output_type": "execute_result"
    }
   ],
   "source": [
    "student = {\"name\":\"Santhosh\",\"age\":32,\"grade\":24}\n",
    "student\n"
   ]
  },
  {
   "cell_type": "code",
   "execution_count": 24,
   "metadata": {},
   "outputs": [
    {
     "data": {
      "text/plain": [
       "{'name': 24, 'age': 32}"
      ]
     },
     "execution_count": 24,
     "metadata": {},
     "output_type": "execute_result"
    }
   ],
   "source": [
    "### Single Key is always used\n",
    "student = {\"name\":\"Santhosh\",\"age\":32,\"name\":24}   ## last value is updated in the key\n",
    "student"
   ]
  },
  {
   "cell_type": "code",
   "execution_count": 25,
   "metadata": {},
   "outputs": [
    {
     "name": "stdout",
     "output_type": "stream",
     "text": [
      "Santhosh\n",
      "A\n",
      "32\n"
     ]
    }
   ],
   "source": [
    "### Accessing Dictionary Elements\n",
    "\n",
    "student = {\"name\":\"Santhosh\",\"age\":32,\"grade\":'A'}\n",
    "print(student[\"name\"])    ## Accessing using key\n",
    "print(student['grade'])\n",
    "print(student['age'])      "
   ]
  },
  {
   "cell_type": "code",
   "execution_count": 26,
   "metadata": {},
   "outputs": [
    {
     "name": "stdout",
     "output_type": "stream",
     "text": [
      "32\n",
      "None\n",
      "Not available\n"
     ]
    }
   ],
   "source": [
    "### Accessing using get() method\n",
    "print(student.get(\"age\"))\n",
    "print(student.get(\"last_name\"))    # The key is not in the dictionary\n",
    "print(student.get(\"last_name\",\"Not available\"))  ## If the key is not in the dictionary it tell Not available"
   ]
  },
  {
   "cell_type": "code",
   "execution_count": 27,
   "metadata": {},
   "outputs": [
    {
     "data": {
      "text/plain": [
       "{'name': 'Gayathri', 'age': 32, 'grade': 'A'}"
      ]
     },
     "execution_count": 27,
     "metadata": {},
     "output_type": "execute_result"
    }
   ],
   "source": [
    "### Modifying Dictionary Elements\n",
    "\n",
    "student[\"name\"] = \"Gayathri\"   ### Update the value\n",
    "student"
   ]
  },
  {
   "cell_type": "code",
   "execution_count": 28,
   "metadata": {},
   "outputs": [
    {
     "data": {
      "text/plain": [
       "{'name': 'Gayathri', 'age': 32, 'grade': 'A', 'department': 'Microbiology'}"
      ]
     },
     "execution_count": 28,
     "metadata": {},
     "output_type": "execute_result"
    }
   ],
   "source": [
    "student['department'] = \"Microbiology\"   ## In dictionary we can add another key with value\n",
    "student"
   ]
  },
  {
   "cell_type": "code",
   "execution_count": 29,
   "metadata": {},
   "outputs": [
    {
     "data": {
      "text/plain": [
       "{'name': 'Gayathri', 'age': 32, 'department': 'Microbiology'}"
      ]
     },
     "execution_count": 29,
     "metadata": {},
     "output_type": "execute_result"
    }
   ],
   "source": [
    "del student[\"grade\"]    ## Using Del Keyword we can delete the vale\n",
    "student"
   ]
  },
  {
   "cell_type": "code",
   "execution_count": 30,
   "metadata": {},
   "outputs": [
    {
     "name": "stdout",
     "output_type": "stream",
     "text": [
      "dict_keys(['name', 'age', 'department'])\n"
     ]
    }
   ],
   "source": [
    "### Dictionary Methods\n",
    "keys = student.keys()   ### Getting all the keys used in the dictionary\n",
    "print(keys)"
   ]
  },
  {
   "cell_type": "code",
   "execution_count": 31,
   "metadata": {},
   "outputs": [
    {
     "data": {
      "text/plain": [
       "dict_values(['Gayathri', 32, 'Microbiology'])"
      ]
     },
     "execution_count": 31,
     "metadata": {},
     "output_type": "execute_result"
    }
   ],
   "source": [
    "values = student.values()   ### Getting all the Values used in the dictionary\n",
    "values"
   ]
  },
  {
   "cell_type": "code",
   "execution_count": 32,
   "metadata": {},
   "outputs": [
    {
     "data": {
      "text/plain": [
       "dict_items([('name', 'Gayathri'), ('age', 32), ('department', 'Microbiology')])"
      ]
     },
     "execution_count": 32,
     "metadata": {},
     "output_type": "execute_result"
    }
   ],
   "source": [
    "items = student.items()   ## Get all the key value pairs\n",
    "items"
   ]
  },
  {
   "cell_type": "code",
   "execution_count": 35,
   "metadata": {},
   "outputs": [
    {
     "name": "stdout",
     "output_type": "stream",
     "text": [
      "original value: {'name': 'Gayathri', 'age': 32, 'department': 'Microbiology'}\n",
      "copied value: {'name': 'Gayathri', 'age': 32, 'department': 'Microbiology'}\n"
     ]
    }
   ],
   "source": [
    "### Shallow Copy\n",
    "\n",
    "copy_student = student\n",
    "print(f\"original value: {student}\")\n",
    "print(f\"copied value: {copy_student}\")"
   ]
  },
  {
   "cell_type": "code",
   "execution_count": 36,
   "metadata": {},
   "outputs": [
    {
     "name": "stdout",
     "output_type": "stream",
     "text": [
      "original value: {'name': 'Sandy', 'age': 32, 'department': 'Microbiology'}\n",
      "copied value: {'name': 'Sandy', 'age': 32, 'department': 'Microbiology'}\n"
     ]
    }
   ],
   "source": [
    "## In This type of copy if we can change the original dictionary it changed to the copied dictionary\n",
    "student[\"name\"] = \"Sandy\"\n",
    "print(f\"original value: {student}\")\n",
    "print(f\"copied value: {copy_student}\")"
   ]
  },
  {
   "cell_type": "code",
   "execution_count": 37,
   "metadata": {},
   "outputs": [
    {
     "name": "stdout",
     "output_type": "stream",
     "text": [
      "original value: {'name': 'Sandy', 'age': 32, 'department': 'Microbiology'}\n",
      "copied value 1: {'name': 'Sandy', 'age': 32, 'department': 'Microbiology'}\n"
     ]
    }
   ],
   "source": [
    "copy_student1 = student.copy()\n",
    "print(f\"original value: {student}\")\n",
    "print(f\"copied value 1: {copy_student1}\")"
   ]
  },
  {
   "cell_type": "code",
   "execution_count": 38,
   "metadata": {},
   "outputs": [
    {
     "name": "stdout",
     "output_type": "stream",
     "text": [
      "original value: {'name': 'Chandra', 'age': 32, 'department': 'Microbiology'}\n",
      "copied value 1: {'name': 'Sandy', 'age': 32, 'department': 'Microbiology'}\n"
     ]
    }
   ],
   "source": [
    "## In the shallow copy we can avoid the error, It create seperate memory for the copied dictionary\n",
    "student[\"name\"] = \"Chandra\"\n",
    "print(f\"original value: {student}\")\n",
    "print(f\"copied value 1: {copy_student1}\")"
   ]
  },
  {
   "cell_type": "code",
   "execution_count": 40,
   "metadata": {},
   "outputs": [
    {
     "name": "stdout",
     "output_type": "stream",
     "text": [
      "name\n",
      "age\n",
      "department\n"
     ]
    }
   ],
   "source": [
    "### Iterating Over Dictionaries\n",
    "\n",
    "## we can use loops to iterate over dictionaries, keys,values or items\n",
    "\n",
    "## Iterate over keys\n",
    "\n",
    "for keys in student.keys():\n",
    "    print(keys)"
   ]
  },
  {
   "cell_type": "code",
   "execution_count": 41,
   "metadata": {},
   "outputs": [
    {
     "name": "stdout",
     "output_type": "stream",
     "text": [
      "Chandra\n",
      "32\n",
      "Microbiology\n"
     ]
    }
   ],
   "source": [
    "## Iterate over values\n",
    "for values in student.values():\n",
    "    print(values)"
   ]
  },
  {
   "cell_type": "code",
   "execution_count": 44,
   "metadata": {},
   "outputs": [
    {
     "name": "stdout",
     "output_type": "stream",
     "text": [
      "name : Chandra\n",
      "age : 32\n",
      "department : Microbiology\n"
     ]
    }
   ],
   "source": [
    "## Iterate over items\n",
    "for key,values in student.items():\n",
    "    print(key,\":\",values)"
   ]
  },
  {
   "cell_type": "code",
   "execution_count": 48,
   "metadata": {},
   "outputs": [
    {
     "name": "stdout",
     "output_type": "stream",
     "text": [
      "{'Student1': {'name': 'Sandy', 'age': 21, 'Department': 'Biomedical'}, 'Student2': {'name': 'Gayathri', 'age': 21, 'Department': 'Microbiology'}, 'Student3': {'name': 'Chandra', 'age': 21, 'Department': 'Biomedical'}, 'Student4': {'name': 'Satheesh', 'age': 21, 'Department': 'Biomedical'}}\n"
     ]
    }
   ],
   "source": [
    "### Nested Dictionaries   -> It is very useful for Nosql databases\n",
    "\n",
    "students = {\n",
    "    \"Student1\" : {\"name\":\"Sandy\",\"age\":21,\"Department\":\"Biomedical\"},\n",
    "    \"Student2\" : {\"name\":\"Gayathri\",\"age\":21,\"Department\":\"Microbiology\"},\n",
    "    \"Student3\" : {\"name\":\"Chandra\",\"age\":21,\"Department\":\"Biomedical\"},\n",
    "    \"Student4\" : {\"name\":\"Satheesh\",\"age\":21,\"Department\":\"Biomedical\"}\n",
    "}\n",
    "\n",
    "print(students)"
   ]
  },
  {
   "cell_type": "code",
   "execution_count": 50,
   "metadata": {},
   "outputs": [
    {
     "name": "stdout",
     "output_type": "stream",
     "text": [
      "Gayathri\n",
      "21\n"
     ]
    }
   ],
   "source": [
    "### Access nested Dictionary elements\n",
    "\n",
    "print(students[\"Student2\"][\"name\"])\n",
    "print(students[\"Student4\"][\"age\"])"
   ]
  },
  {
   "cell_type": "code",
   "execution_count": 58,
   "metadata": {},
   "outputs": [
    {
     "name": "stdout",
     "output_type": "stream",
     "text": [
      "Student1 : {'name': 'Sandy', 'age': 21, 'Department': 'Biomedical'}\n",
      "name : Sandy\n",
      "age : 21\n",
      "Department : Biomedical\n",
      "-----------------------------------------------------------------------------\n",
      "Student2 : {'name': 'Gayathri', 'age': 21, 'Department': 'Microbiology'}\n",
      "name : Gayathri\n",
      "age : 21\n",
      "Department : Microbiology\n",
      "-----------------------------------------------------------------------------\n",
      "Student3 : {'name': 'Chandra', 'age': 21, 'Department': 'Biomedical'}\n",
      "name : Chandra\n",
      "age : 21\n",
      "Department : Biomedical\n",
      "-----------------------------------------------------------------------------\n",
      "Student4 : {'name': 'Satheesh', 'age': 21, 'Department': 'Biomedical'}\n",
      "name : Satheesh\n",
      "age : 21\n",
      "Department : Biomedical\n",
      "-----------------------------------------------------------------------------\n"
     ]
    }
   ],
   "source": [
    "### Iterating Over nexted Dictionary\n",
    "\n",
    "for student_id, student_info in students.items():\n",
    "    print(student_id,\":\",student_info)\n",
    "    for key,values in student_info.items():\n",
    "        print(f\"{key} : {values}\")\n",
    "    print(\"-----------------------------------------------------------------------------\")"
   ]
  },
  {
   "cell_type": "code",
   "execution_count": 59,
   "metadata": {},
   "outputs": [
    {
     "data": {
      "text/plain": [
       "{0: 0, 1: 1, 2: 4, 3: 9, 4: 16}"
      ]
     },
     "execution_count": 59,
     "metadata": {},
     "output_type": "execute_result"
    }
   ],
   "source": [
    "## Dictionary Comprehension\n",
    "\n",
    "squares = {x:x*x for x in range(0,5)}  # original x is key, x**2 is value\n",
    "squares"
   ]
  },
  {
   "cell_type": "code",
   "execution_count": 60,
   "metadata": {},
   "outputs": [
    {
     "data": {
      "text/plain": [
       "{0: 0, 2: 4, 4: 16, 6: 36, 8: 64}"
      ]
     },
     "execution_count": 60,
     "metadata": {},
     "output_type": "execute_result"
    }
   ],
   "source": [
    "### Squares of only even numbers\n",
    "### condition dictionary Comprehension\n",
    "\n",
    "squares_even = {x:x*x for x in range(0,10) if x%2 == 0}\n",
    "squares_even"
   ]
  },
  {
   "cell_type": "code",
   "execution_count": 61,
   "metadata": {},
   "outputs": [
    {
     "data": {
      "text/plain": [
       "{1: 1, 3: 9, 5: 25, 7: 49, 9: 81}"
      ]
     },
     "execution_count": 61,
     "metadata": {},
     "output_type": "execute_result"
    }
   ],
   "source": [
    "### Squares of only odd numbers\n",
    "### condition dictionary Comprehension\n",
    "\n",
    "squares_odd = {x:x*x for x in range(0,10) if x%2 == 1}\n",
    "squares_odd"
   ]
  },
  {
   "cell_type": "code",
   "execution_count": 63,
   "metadata": {},
   "outputs": [
    {
     "name": "stdout",
     "output_type": "stream",
     "text": [
      "apple : 2\n",
      "Strawberry : 1\n",
      "Mango : 3\n",
      "Banana : 2\n",
      "Gauva : 1\n"
     ]
    }
   ],
   "source": [
    "### Practical Examples\n",
    "\n",
    "### Use a dictionary to count the frequency of the elements in the list\n",
    "\n",
    "fruit_items = [\"apple\",\"Strawberry\",\"Mango\",\"Banana\",\"apple\",\"Banana\",\"Gauva\",\"Mango\",\"Mango\"]\n",
    "\n",
    "freq = {}\n",
    "\n",
    "for i in fruit_items:\n",
    "    if i not in freq:\n",
    "        freq[i] = 1\n",
    "    else:\n",
    "        freq[i] +=1\n",
    "\n",
    "for key,values in freq.items():\n",
    "    print(f\"{key} : {values}\")"
   ]
  },
  {
   "cell_type": "code",
   "execution_count": 65,
   "metadata": {},
   "outputs": [
    {
     "data": {
      "text/plain": [
       "{'a': 1, 'b': 3, 'c': 4}"
      ]
     },
     "execution_count": 65,
     "metadata": {},
     "output_type": "execute_result"
    }
   ],
   "source": [
    "### Merge 2 dictionaries into 1 dictionary\n",
    "\n",
    "dict1 ={\"a\":1,\"b\":2}\n",
    "dict2 = {\"b\":3,\"c\":4}\n",
    "\n",
    "merged_dict = {**dict1,**dict2}   ## ** ->  keyword arguments, We will discuss about in functions\n",
    "merged_dict"
   ]
  }
 ],
 "metadata": {
  "kernelspec": {
   "display_name": "venv",
   "language": "python",
   "name": "python3"
  },
  "language_info": {
   "codemirror_mode": {
    "name": "ipython",
    "version": 3
   },
   "file_extension": ".py",
   "mimetype": "text/x-python",
   "name": "python",
   "nbconvert_exporter": "python",
   "pygments_lexer": "ipython3",
   "version": "3.12.4"
  }
 },
 "nbformat": 4,
 "nbformat_minor": 2
}
