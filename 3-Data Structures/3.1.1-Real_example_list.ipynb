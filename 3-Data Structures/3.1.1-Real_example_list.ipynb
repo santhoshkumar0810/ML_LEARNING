{
 "cells": [
  {
   "cell_type": "markdown",
   "metadata": {},
   "source": [
    "### 1. Manage a To-Do list"
   ]
  },
  {
   "cell_type": "code",
   "execution_count": 3,
   "metadata": {},
   "outputs": [
    {
     "name": "stdout",
     "output_type": "stream",
     "text": [
      "Don't forget to paying the bills\n",
      "Todo list Remaining\n",
      "- Buy Groceries\n",
      "- Pay Bills\n",
      "- Schedule the meeting\n",
      "- Go for a run\n"
     ]
    }
   ],
   "source": [
    "to_do_list = [\"Buy Groceries\",\"Clean the house\",\"Pay Bills\"]\n",
    "\n",
    "## Adding to the list\n",
    "\n",
    "to_do_list.append(\"Schedule the meeting\")\n",
    "to_do_list.append(\"Go for a run\")\n",
    "\n",
    "## Removing the finshed task\n",
    "\n",
    "to_do_list.remove(\"Clean the house\")\n",
    "\n",
    "## Checking the task in the list\n",
    "\n",
    "if \"Pay Bills\" in to_do_list:\n",
    "    print(\"Don't forget to paying the bills\")  ## Like the Remainder\n",
    "\n",
    "print(f\"Todo list Remaining\")\n",
    "\n",
    "for task in to_do_list:\n",
    "    print(f\"- {task}\")\n"
   ]
  },
  {
   "cell_type": "markdown",
   "metadata": {},
   "source": [
    "### Organizing Student Grades"
   ]
  },
  {
   "cell_type": "code",
   "execution_count": 4,
   "metadata": {},
   "outputs": [
    {
     "name": "stdout",
     "output_type": "stream",
     "text": [
      "Average : 83.83333333333333\n",
      "Highest Grade : 95\n",
      "Lowest Grade : 65\n"
     ]
    }
   ],
   "source": [
    "grades = [85,92,76,65,90]\n",
    "\n",
    "grades.append(95)\n",
    "\n",
    "## Calculating the average grades\n",
    "\n",
    "average_grade = sum(grades)/len(grades)\n",
    "print(f\"Average : {average_grade}\")\n",
    "\n",
    "## Finding the highest and lowest grades\n",
    "\n",
    "highest_grade = max(grades)\n",
    "lowest_grade = min(grades)\n",
    "\n",
    "print(f\"Highest Grade : {highest_grade}\")\n",
    "print(f\"Lowest Grade : {lowest_grade}\")"
   ]
  },
  {
   "cell_type": "markdown",
   "metadata": {},
   "source": [
    "### Managing an Inventory"
   ]
  },
  {
   "cell_type": "code",
   "execution_count": 5,
   "metadata": {},
   "outputs": [
    {
     "name": "stdout",
     "output_type": "stream",
     "text": [
      "Oranges are out of stock\n",
      "Inventory List: \n",
      "- Apple\n",
      "- Strawberry\n",
      "- Mango\n",
      "- Gauva\n",
      "- Grapes\n"
     ]
    }
   ],
   "source": [
    "inventory = [\"Apple\",\"Strawberry\",\"Mango\",\"Banana\",\"Gauva\"]\n",
    "\n",
    "# Adding a new item\n",
    "\n",
    "inventory.append(\"Grapes\")\n",
    "\n",
    "# Removing the item that is out of stock\n",
    "\n",
    "inventory.remove(\"Banana\")\n",
    "\n",
    "# Checking if an item is in stock\n",
    "\n",
    "item = \"Oranges\"\n",
    "if item in inventory:\n",
    "    print(f\"{item} are in stock\")\n",
    "else:\n",
    "    print(f\"{item} are out of stock\")\n",
    "\n",
    "# Printing an inventory\n",
    "\n",
    "print(\"Inventory List: \")\n",
    "\n",
    "for item in inventory:\n",
    "    print(f\"- {item}\")"
   ]
  }
 ],
 "metadata": {
  "kernelspec": {
   "display_name": "venv",
   "language": "python",
   "name": "python3"
  },
  "language_info": {
   "codemirror_mode": {
    "name": "ipython",
    "version": 3
   },
   "file_extension": ".py",
   "mimetype": "text/x-python",
   "name": "python",
   "nbconvert_exporter": "python",
   "pygments_lexer": "ipython3",
   "version": "3.12.4"
  }
 },
 "nbformat": 4,
 "nbformat_minor": 2
}
